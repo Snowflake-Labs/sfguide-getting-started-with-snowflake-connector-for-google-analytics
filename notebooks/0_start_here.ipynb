{
 "metadata": {
  "kernelspec": {
   "display_name": "Streamlit Notebook",
   "name": "streamlit"
  }
 },
 "nbformat_minor": 5,
 "nbformat": 4,
 "cells": [
  {
   "cell_type": "markdown",
   "id": "83a37b42-13e7-4ddd-9215-2cec57eb2b1f",
   "metadata": {
    "name": "md_1",
    "collapsed": false,
    "resultHeight": 195
   },
   "source": "# Getting Started with the Snowflake Connector for Google Analytics\n\nThe purpose of this Notebook is inspect the BigQuery data set, both the raw table and the view.\n\nUse this Notebook to clean up the objects created in this Quickstart."
  },
  {
   "cell_type": "code",
   "id": "c7c9e667-da6e-4f5c-96ff-edb063a42799",
   "metadata": {
    "language": "python",
    "name": "get_session",
    "codeCollapsed": false,
    "resultHeight": 0,
    "collapsed": false
   },
   "outputs": [],
   "source": "import warnings\nwarnings.filterwarnings(\"ignore\")\n\nfrom snowflake.snowpark.context import get_active_session\nsession = get_active_session()\n# prefix = session.get_current_database()[1:-6]\n\nsession.query_tag = {\"origin\":\"sf_sit-is\", \n                     \"name\":\"google_analytics_raw\", \n                     \"version\":{\"major\":1, \"minor\":0},\n                     \"attributes\":{\"is_quickstart\":1, \"source\":\"notebook\"}}",
   "execution_count": null
  },
  {
   "cell_type": "markdown",
   "id": "1077851b-2361-4c4f-b582-bf79f6543b8e",
   "metadata": {
    "name": "md_2",
    "resultHeight": 41
   },
   "source": "This query shows the output from the raw data."
  },
  {
   "cell_type": "code",
   "id": "bf9371fd-ba84-4021-b035-c8a5e2763489",
   "metadata": {
    "language": "sql",
    "name": "raw_table_output",
    "codeCollapsed": false,
    "collapsed": false,
    "resultHeight": 87
   },
   "outputs": [],
   "source": "-- table analytics_20210131\nselect * from SNOWFLAKE_CONNECTOR_FOR_GOOGLE_ANALYTICS_RAW_DATA_DEST_DB.SNOWFLAKE_CONNECTOR_FOR_GOOGLE_ANALYTICS_RAW_DATA_DEST_SCHEMA.ANALYTICS_20210131;",
   "execution_count": null
  },
  {
   "cell_type": "markdown",
   "id": "e8e9ebd7-1a53-4834-b7e5-d5c343b78531",
   "metadata": {
    "name": "md_3",
    "collapsed": false,
    "resultHeight": 41
   },
   "source": "This query shows the output from the flattened data."
  },
  {
   "cell_type": "code",
   "id": "2ba11267-a83f-4e8b-97af-49ea0e9f1734",
   "metadata": {
    "language": "sql",
    "name": "view_output",
    "collapsed": false,
    "resultHeight": 87
   },
   "outputs": [],
   "source": "-- view analytics_20210131\nselect * from SNOWFLAKE_CONNECTOR_FOR_GOOGLE_ANALYTICS_RAW_DATA_DEST_DB.SNOWFLAKE_CONNECTOR_FOR_GOOGLE_ANALYTICS_RAW_DATA_DEST_SCHEMA.ANALYTICS_20210131__VIEW;",
   "execution_count": null
  },
  {
   "cell_type": "markdown",
   "id": "4ce96253-d3ea-4ad7-905e-874cff3cef3b",
   "metadata": {
    "name": "md_4",
    "collapsed": false,
    "resultHeight": 67
   },
   "source": "Uncomment and run the code below once you're ready to remove the Snowflake objects created in this Quickstart."
  },
  {
   "cell_type": "code",
   "id": "e8849ef2-a013-4aba-a520-1e6db099c3ea",
   "metadata": {
    "language": "sql",
    "name": "clean_up",
    "resultHeight": 0
   },
   "outputs": [],
   "source": "-- USE ROLE ACCOUNTADMIN;\n\n-- DROP ROLE IF EXISTS SNOWFLAKE_CONNECTOR_FOR_GOOGLE_ANALYTICS_RAW_DATA_RESOURCES_PROVIDER;\n\n-- DROP APPLICATION IF EXISTS SNOWFLAKE_CONNECTOR_FOR_GOOGLE_ANALYTICS_RAW_DATA;\n\n-- DROP WAREHOUSE IF EXISTS GOOGLE_ANALYTICS_DS_WH;\n-- DROP WAREHOUSE IF EXISTS SNOWFLAKE_CONNECTOR_FOR_GOOGLE_ANALYTICS_RAW_DATA_WAREHOUSE;\n\n-- DROP DATABASE IF EXISTS SNOWFLAKE_CONNECTOR_FOR_GOOGLE_ANALYTICS_RAW_DATA_DEST_DB;\n-- DROP DATABASE IF EXISTS GOOGLE_ANALYTICS;",
   "execution_count": null
  }
 ]
}